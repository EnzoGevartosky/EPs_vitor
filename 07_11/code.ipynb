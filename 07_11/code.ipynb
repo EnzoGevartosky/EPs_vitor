{
 "cells": [
  {
   "cell_type": "code",
   "execution_count": 34,
   "metadata": {},
   "outputs": [],
   "source": [
    "using Plots, MAT, DSP, WAV, LinearAlgebra, FFTW, StatsBase"
   ]
  },
  {
   "cell_type": "code",
   "execution_count": 15,
   "metadata": {},
   "outputs": [
    {
     "name": "stdout",
     "output_type": "stream",
     "text": [
      "6.25e-5\n",
      "16000.0\n",
      "Float64"
     ]
    }
   ],
   "source": [
    "sig_m = matopen(\"sinal.mat\")\n",
    "sig_m = read(sig_m)\n",
    "Ta = sig_m[\"Ta\"]\n",
    "fa = 1/Ta\n",
    "sig = sig_m[\"x\"]\n",
    "\n",
    "println(Ta)\n",
    "println(fa)"
   ]
  },
  {
   "cell_type": "code",
   "execution_count": 18,
   "metadata": {},
   "outputs": [
    {
     "name": "stdout",
     "output_type": "stream",
     "text": [
      "12000.0\n"
     ]
    }
   ],
   "source": [
    "wavplay(sig[1:end], fa)"
   ]
  },
  {
   "cell_type": "code",
   "execution_count": null,
   "metadata": {},
   "outputs": [],
   "source": [
    "bpm_max = 80\n",
    "bps_max = 80/60\n",
    "note_dur = 1/bps_max\n",
    "M = Int(fa * note_dur)"
   ]
  },
  {
   "cell_type": "code",
   "execution_count": 1,
   "metadata": {},
   "outputs": [
    {
     "ename": "UndefVarError",
     "evalue": "UndefVarError: `sig` not defined",
     "output_type": "error",
     "traceback": [
      "UndefVarError: `sig` not defined\n",
      "\n",
      "Stacktrace:\n",
      " [1] top-level scope\n",
      "   @ c:\\Users\\meies\\Documents\\Poli\\EPs_Vitor\\07_11\\jl_notebook_cell_df34fa98e69747e1a8f8a730347b8e2f_W4sZmlsZQ==.jl:3"
     ]
    }
   ],
   "source": [
    "w = ones(500)\n",
    "tftc = []\n",
    "for i in 1:(length(sig)-M)\n",
    "    append!(tftc, fft(sig[i:i+M-1].*w))\n",
    "end"
   ]
  }
 ],
 "metadata": {
  "kernelspec": {
   "display_name": "Julia 1.10.4",
   "language": "julia",
   "name": "julia-1.10"
  },
  "language_info": {
   "file_extension": ".jl",
   "mimetype": "application/julia",
   "name": "julia",
   "version": "1.10.4"
  }
 },
 "nbformat": 4,
 "nbformat_minor": 2
}
